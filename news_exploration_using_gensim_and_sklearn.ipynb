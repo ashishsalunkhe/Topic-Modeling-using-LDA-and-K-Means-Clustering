{
  "nbformat": 4,
  "nbformat_minor": 0,
  "metadata": {
    "colab": {
      "name": "news-exploration-using-gensim-and-sklearn.ipynb",
      "version": "0.3.2",
      "provenance": [],
      "collapsed_sections": [],
      "toc_visible": true,
      "include_colab_link": true
    },
    "kernelspec": {
      "display_name": "Python 3",
      "language": "python",
      "name": "python3"
    }
  },
  "cells": [
    {
      "cell_type": "markdown",
      "metadata": {
        "id": "view-in-github",
        "colab_type": "text"
      },
      "source": [
        "<a href=\"https://colab.research.google.com/github/ashishsalunkhe/Topic-Modelling/blob/master/news_exploration_using_gensim_and_sklearn.ipynb\" target=\"_parent\"><img src=\"https://colab.research.google.com/assets/colab-badge.svg\" alt=\"Open In Colab\"/></a>"
      ]
    },
    {
      "metadata": {
        "id": "_9x5AP04Ukn8",
        "colab_type": "code",
        "outputId": "82df4bbb-e1b9-4b27-c445-8f0a91f4af27",
        "colab": {
          "base_uri": "https://localhost:8080/",
          "height": 359
        }
      },
      "cell_type": "code",
      "source": [
        "import nltk\n",
        "nltk.download('punkt')\n",
        "nltk.download('wordnet')\n",
        "nltk.download('stopwords')\n",
        "!pip install -U seaborn\n",
        "from seaborn import lineplot"
      ],
      "execution_count": 0,
      "outputs": [
        {
          "output_type": "stream",
          "text": [
            "[nltk_data] Downloading package punkt to /root/nltk_data...\n",
            "[nltk_data]   Package punkt is already up-to-date!\n",
            "[nltk_data] Downloading package wordnet to /root/nltk_data...\n",
            "[nltk_data]   Package wordnet is already up-to-date!\n",
            "[nltk_data] Downloading package stopwords to /root/nltk_data...\n",
            "[nltk_data]   Unzipping corpora/stopwords.zip.\n",
            "Requirement already up-to-date: seaborn in /usr/local/lib/python3.6/dist-packages (0.9.0)\n",
            "Requirement already satisfied, skipping upgrade: numpy>=1.9.3 in /usr/local/lib/python3.6/dist-packages (from seaborn) (1.14.6)\n",
            "Requirement already satisfied, skipping upgrade: matplotlib>=1.4.3 in /usr/local/lib/python3.6/dist-packages (from seaborn) (3.0.2)\n",
            "Requirement already satisfied, skipping upgrade: pandas>=0.15.2 in /usr/local/lib/python3.6/dist-packages (from seaborn) (0.22.0)\n",
            "Requirement already satisfied, skipping upgrade: scipy>=0.14.0 in /usr/local/lib/python3.6/dist-packages (from seaborn) (1.1.0)\n",
            "Requirement already satisfied, skipping upgrade: python-dateutil>=2.1 in /usr/local/lib/python3.6/dist-packages (from matplotlib>=1.4.3->seaborn) (2.5.3)\n",
            "Requirement already satisfied, skipping upgrade: pyparsing!=2.0.4,!=2.1.2,!=2.1.6,>=2.0.1 in /usr/local/lib/python3.6/dist-packages (from matplotlib>=1.4.3->seaborn) (2.3.1)\n",
            "Requirement already satisfied, skipping upgrade: cycler>=0.10 in /usr/local/lib/python3.6/dist-packages (from matplotlib>=1.4.3->seaborn) (0.10.0)\n",
            "Requirement already satisfied, skipping upgrade: kiwisolver>=1.0.1 in /usr/local/lib/python3.6/dist-packages (from matplotlib>=1.4.3->seaborn) (1.0.1)\n",
            "Requirement already satisfied, skipping upgrade: pytz>=2011k in /usr/local/lib/python3.6/dist-packages (from pandas>=0.15.2->seaborn) (2018.9)\n",
            "Requirement already satisfied, skipping upgrade: six>=1.5 in /usr/local/lib/python3.6/dist-packages (from python-dateutil>=2.1->matplotlib>=1.4.3->seaborn) (1.11.0)\n",
            "Requirement already satisfied, skipping upgrade: setuptools in /usr/local/lib/python3.6/dist-packages (from kiwisolver>=1.0.1->matplotlib>=1.4.3->seaborn) (40.8.0)\n"
          ],
          "name": "stdout"
        }
      ]
    },
    {
      "metadata": {
        "trusted": true,
        "_uuid": "d66fe46ba267ad1f8130604c2a6840b6df9f1070",
        "id": "p5wJDv5y8dHv",
        "colab_type": "code",
        "outputId": "ec0edee0-7ed3-44cd-d1b3-c101a3793952",
        "colab": {
          "base_uri": "https://localhost:8080/",
          "height": 293
        }
      },
      "cell_type": "code",
      "source": [
        "import pandas as pd\n",
        "import seaborn as sns\n",
        "import matplotlib.pyplot as plt\n",
        "import string\n",
        "import multiprocessing\n",
        "\n",
        "news = pd.read_csv(\"uci-news-aggregator.csv\")\n",
        "\n",
        "# Convert date\n",
        "news['TIMESTAMP'] = pd.to_datetime(news['TIMESTAMP'], unit='ms')\n",
        "\n",
        "# columns.\n",
        "news[[\"TITLE\", \"PUBLISHER\", \"CATEGORY\", \"HOSTNAME\", \"TIMESTAMP\"]].head()"
      ],
      "execution_count": 0,
      "outputs": [
        {
          "output_type": "execute_result",
          "data": {
            "text/html": [
              "<div>\n",
              "<style scoped>\n",
              "    .dataframe tbody tr th:only-of-type {\n",
              "        vertical-align: middle;\n",
              "    }\n",
              "\n",
              "    .dataframe tbody tr th {\n",
              "        vertical-align: top;\n",
              "    }\n",
              "\n",
              "    .dataframe thead th {\n",
              "        text-align: right;\n",
              "    }\n",
              "</style>\n",
              "<table border=\"1\" class=\"dataframe\">\n",
              "  <thead>\n",
              "    <tr style=\"text-align: right;\">\n",
              "      <th></th>\n",
              "      <th>TITLE</th>\n",
              "      <th>PUBLISHER</th>\n",
              "      <th>CATEGORY</th>\n",
              "      <th>HOSTNAME</th>\n",
              "      <th>TIMESTAMP</th>\n",
              "    </tr>\n",
              "  </thead>\n",
              "  <tbody>\n",
              "    <tr>\n",
              "      <th>0</th>\n",
              "      <td>Fed official says weak data caused by weather,...</td>\n",
              "      <td>Los Angeles Times</td>\n",
              "      <td>b</td>\n",
              "      <td>www.latimes.com</td>\n",
              "      <td>2014-03-10 16:52:50.698</td>\n",
              "    </tr>\n",
              "    <tr>\n",
              "      <th>1</th>\n",
              "      <td>Fed's Charles Plosser sees high bar for change...</td>\n",
              "      <td>Livemint</td>\n",
              "      <td>b</td>\n",
              "      <td>www.livemint.com</td>\n",
              "      <td>2014-03-10 16:52:51.207</td>\n",
              "    </tr>\n",
              "    <tr>\n",
              "      <th>2</th>\n",
              "      <td>US open: Stocks fall after Fed official hints ...</td>\n",
              "      <td>IFA Magazine</td>\n",
              "      <td>b</td>\n",
              "      <td>www.ifamagazine.com</td>\n",
              "      <td>2014-03-10 16:52:51.550</td>\n",
              "    </tr>\n",
              "    <tr>\n",
              "      <th>3</th>\n",
              "      <td>Fed risks falling 'behind the curve', Charles ...</td>\n",
              "      <td>IFA Magazine</td>\n",
              "      <td>b</td>\n",
              "      <td>www.ifamagazine.com</td>\n",
              "      <td>2014-03-10 16:52:51.793</td>\n",
              "    </tr>\n",
              "    <tr>\n",
              "      <th>4</th>\n",
              "      <td>Fed's Plosser: Nasty Weather Has Curbed Job Gr...</td>\n",
              "      <td>Moneynews</td>\n",
              "      <td>b</td>\n",
              "      <td>www.moneynews.com</td>\n",
              "      <td>2014-03-10 16:52:52.027</td>\n",
              "    </tr>\n",
              "  </tbody>\n",
              "</table>\n",
              "</div>"
            ],
            "text/plain": [
              "                                               TITLE          PUBLISHER  \\\n",
              "0  Fed official says weak data caused by weather,...  Los Angeles Times   \n",
              "1  Fed's Charles Plosser sees high bar for change...           Livemint   \n",
              "2  US open: Stocks fall after Fed official hints ...       IFA Magazine   \n",
              "3  Fed risks falling 'behind the curve', Charles ...       IFA Magazine   \n",
              "4  Fed's Plosser: Nasty Weather Has Curbed Job Gr...          Moneynews   \n",
              "\n",
              "  CATEGORY             HOSTNAME               TIMESTAMP  \n",
              "0        b      www.latimes.com 2014-03-10 16:52:50.698  \n",
              "1        b     www.livemint.com 2014-03-10 16:52:51.207  \n",
              "2        b  www.ifamagazine.com 2014-03-10 16:52:51.550  \n",
              "3        b  www.ifamagazine.com 2014-03-10 16:52:51.793  \n",
              "4        b    www.moneynews.com 2014-03-10 16:52:52.027  "
            ]
          },
          "metadata": {
            "tags": []
          },
          "execution_count": 14
        }
      ]
    },
    {
      "metadata": {
        "trusted": true,
        "_uuid": "820460e59374a4ec89b07805ed41ae129432a9ce",
        "id": "YeiIHMnv8dIL",
        "colab_type": "code",
        "outputId": "dbca10ae-a599-41e6-805c-0c7f9ee3d705",
        "colab": {
          "base_uri": "https://localhost:8080/",
          "height": 35
        }
      },
      "cell_type": "code",
      "source": [
        "def date_printer(date):\n",
        "    return \"{}/{}/{}\".format(date.day, date.month, date.year)\n",
        "\n",
        "start, end = news['TIMESTAMP'].min(), news['TIMESTAMP'].max() \n",
        "print(\"dataset timeline starts at {} and ends at {}\".format(date_printer(start), date_printer(end)))"
      ],
      "execution_count": 0,
      "outputs": [
        {
          "output_type": "stream",
          "text": [
            "dataset timeline starts at 10/3/2014 and ends at 30/4/2014\n"
          ],
          "name": "stdout"
        }
      ]
    },
    {
      "metadata": {
        "trusted": true,
        "_uuid": "ed5abed6435a80cda6ba023624d25096137c7fd0",
        "id": "QfHITP4A8dId",
        "colab_type": "code",
        "outputId": "52d5bb1c-0c2e-45bc-abb9-8e253479b540",
        "colab": {
          "base_uri": "https://localhost:8080/",
          "height": 295
        }
      },
      "cell_type": "code",
      "source": [
        "news['MONTH'] = news['TIMESTAMP'].apply(lambda date: date.month)\n",
        "news['DAY'] = news['TIMESTAMP'].apply(lambda date: date.day)\n",
        "\n",
        "# Some months have 30 and others have 30 days. The first and last months in our dataset and not whole.\n",
        "month_days = {\n",
        "    3: 21,\n",
        "    4: 30,\n",
        "    5: 31,\n",
        "    6: 30,\n",
        "    7: 31,\n",
        "    8: 27\n",
        "}\n",
        "articles_per_day = {}\n",
        "for month in month_days:\n",
        "    n_articles = len(news[news['MONTH'] == month])\n",
        "    articles_per_day[month] = n_articles / month_days[month]\n",
        "\n",
        "ax = sns.barplot(x=list(articles_per_day.keys()), y=list(articles_per_day.values()))\n",
        "ax.set_title(\"Normalized Counts\")\n",
        "ax.set_xlabel(\"Month\")\n",
        "ax.set_ylabel(\"Articles Per Day\")\n",
        "plt.show()"
      ],
      "execution_count": 0,
      "outputs": [
        {
          "output_type": "display_data",
          "data": {
            "image/png": "[encoded data removed]",
            "text/plain": [
              "<Figure size 432x288 with 1 Axes>"
            ]
          },
          "metadata": {
            "tags": []
          }
        }
      ]
    },
    {
      "metadata": {
        "trusted": true,
        "_uuid": "4f0695b9599729b3dea61b26f2f8eab74a20e080",
        "id": "48-h_aFY8dIw",
        "colab_type": "code",
        "outputId": "b9a84d6c-e011-459e-82c7-e327b461d973",
        "colab": {
          "base_uri": "https://localhost:8080/",
          "height": 343
        }
      },
      "cell_type": "code",
      "source": [
        "cat_map = {\n",
        "    'b': 'Business',\n",
        "    't': 'Science',\n",
        "    'e': 'Entertainment',\n",
        "    'm': 'Health'\n",
        "}\n",
        "ax = sns.countplot(news['CATEGORY'])\n",
        "ax.set_title(\"Category Counts\")\n",
        "ax.set_xlabel(\"Category\")\n",
        "# Manipulate the labels \n",
        "ax.set_xticklabels([cat_map[x.get_text()] for x in ax.get_xticklabels()], rotation=45)\n",
        "plt.show()"
      ],
      "execution_count": 0,
      "outputs": [
        {
          "output_type": "display_data",
          "data": {
            "image/png": "[encoded data removed]",
            "text/plain": [
              "<Figure size 432x288 with 1 Axes>"
            ]
          },
          "metadata": {
            "tags": []
          }
        }
      ]
    },
    {
      "metadata": {
        "_uuid": "fa4b9a401a84aac1774ebc82c727ec7c98f18fb3",
        "id": "hAZgGp9F8dI8",
        "colab_type": "text"
      },
      "cell_type": "markdown",
      "source": [
        "As we can see, the category feature is rather balanced, with the only exception of `Health` which is a bit low in comparison to other values."
      ]
    },
    {
      "metadata": {
        "trusted": true,
        "_uuid": "13ad2a96810aae1779f02b5c75a6ed88b6efc936",
        "id": "jUZUKsSO8dJI",
        "colab_type": "code",
        "outputId": "dc033a08-9c20-4435-b569-f5ca293a0b53",
        "colab": {
          "base_uri": "https://localhost:8080/",
          "height": 124
        }
      },
      "cell_type": "code",
      "source": [
        "from collections import Counter\n",
        "\n",
        "# style print output\n",
        "def emphasize(s):\n",
        "    \n",
        "    red = '\\x1b[1;31m'\n",
        "    stop = '\\x1b[0m'\n",
        "    return red + str(s) + stop\n",
        "\n",
        "nunique = news['PUBLISHER'].nunique()\n",
        "print(\"There are {} different publishers. Below some of the most common:\".format(emphasize(nunique)))\n",
        "for key, value in Counter(news['PUBLISHER']).most_common(5):\n",
        "    print(\"   {} posted {} articles\".format(emphasize(key), emphasize(value)))"
      ],
      "execution_count": 0,
      "outputs": [
        {
          "output_type": "stream",
          "text": [
            "There are \u001b[1;31m8517\u001b[0m different publishers. Below some of the most common:\n",
            "   \u001b[1;31mReuters\u001b[0m posted \u001b[1;31m1491\u001b[0m articles\n",
            "   \u001b[1;31mHuffington Post\u001b[0m posted \u001b[1;31m1149\u001b[0m articles\n",
            "   \u001b[1;31mContactmusic.com\u001b[0m posted \u001b[1;31m1029\u001b[0m articles\n",
            "   \u001b[1;31mExaminer.com\u001b[0m posted \u001b[1;31m998\u001b[0m articles\n",
            "   \u001b[1;31mLos Angeles Times\u001b[0m posted \u001b[1;31m884\u001b[0m articles\n"
          ],
          "name": "stdout"
        }
      ]
    },
    {
      "metadata": {
        "trusted": true,
        "_uuid": "ed16dc23550a2c17a2b968f6f2e3da1e121617ac",
        "id": "Irsznyn68dJd",
        "colab_type": "code",
        "colab": {}
      },
      "cell_type": "code",
      "source": [
        "from nltk import word_tokenize\n",
        "from nltk.stem import WordNetLemmatizer\n",
        "from nltk.corpus import stopwords\n",
        "\n",
        "def tokenize(s, lemmatize=True, decode=False):\n",
        "    \n",
        "    # NLTK data \n",
        "    try:\n",
        "        if decode:\n",
        "            s = s.decode(\"utf-8\")\n",
        "        tokens = word_tokenize(s.lower())\n",
        "    except LookupError:\n",
        "        nltk.download('punkt')\n",
        "        tokenize(s)\n",
        "    \n",
        "\n",
        "    \n",
        "    ignored = stopwords.words(\"english\") + [punct for punct in string.punctuation]\n",
        "    clean_tokens = [token for token in tokens if token not in ignored]\n",
        "    \n",
        "    #lemmatize the output to reduce the number of unique words and address overfitting.\n",
        "    if lemmatize:\n",
        "        lemmatizer = WordNetLemmatizer()\n",
        "        return [lemmatizer.lemmatize(token) for token in clean_tokens]\n",
        "    return clean_tokens\n",
        "\n",
        "\n",
        "def test_tokenize():\n",
        "        \n",
        "    # With lemmatization\n",
        "    text = \"Mr. X correctly diagnosed his patients.\"\n",
        "    expected_result = ['mr.', 'x', 'correctly', 'diagnosed', 'patient']\n",
        "    assert tokenize(text) == expected_result\n",
        "    \n",
        "    # Without lemmatization\n",
        "    expected_result = ['mr.', 'x', 'correctly', 'diagnosed', 'patients']\n",
        "    assert tokenize(text, lemmatize=False) == expected_result\n",
        "    \n",
        "test_tokenize()"
      ],
      "execution_count": 0,
      "outputs": []
    },
    {
      "metadata": {
        "trusted": true,
        "_uuid": "b0f78b7cf385914f1806100a30bb464004b30ff5",
        "id": "2lWwj-pa8dJo",
        "colab_type": "code",
        "colab": {}
      },
      "cell_type": "code",
      "source": [
        "from sklearn.model_selection import train_test_split\n",
        "from sklearn.feature_extraction.text import CountVectorizer\n",
        "from sklearn.preprocessing import LabelEncoder\n",
        "\n",
        "# Bag of Words Representation using tokenizer.\n",
        "vectorizer = CountVectorizer(lowercase=False, tokenizer=tokenize)\n",
        "x = vectorizer.fit_transform(news['TITLE'])\n",
        "\n",
        "# Create numerical labels.\n",
        "encoder = LabelEncoder()\n",
        "y = encoder.fit_transform(news['CATEGORY'])\n",
        "\n",
        "encoder_mapping = dict(zip(encoder.transform(encoder.classes_), encoder.classes_))\n",
        "\n",
        "# Split into a training and test set.\n",
        "seed = 42\n",
        "x_train, x_test, y_train, y_test = train_test_split(x, y, test_size=0.2, random_state=seed)"
      ],
      "execution_count": 0,
      "outputs": []
    },
    {
      "metadata": {
        "trusted": true,
        "_uuid": "d66e502a1a8f0b00e906209fd60b1e33fbad6ef0",
        "id": "PenPs4og8dJ8",
        "colab_type": "code",
        "outputId": "7604f886-3473-47f1-9069-ed2a145d7e2a",
        "colab": {
          "base_uri": "https://localhost:8080/",
          "height": 108
        }
      },
      "cell_type": "code",
      "source": [
        "from sklearn.ensemble import RandomForestClassifier\n",
        "\n",
        "def report_accuracy(trained_clf):\n",
        "    train_score = trained_clf.score(x_train, y_train)\n",
        "    test_score = trained_clf.score(x_test, y_test)\n",
        "    print(\"Training set accuracy score is: {}\".format(emphasize(train_score)))\n",
        "    print(\"Test set accuracy score is: {}\".format(emphasize(test_score)))\n",
        "    \n",
        "n_cores = max(multiprocessing.cpu_count(), 1)\n",
        "\n",
        "rf = RandomForestClassifier(n_jobs=n_cores)\n",
        "rf.fit(x_train, y_train)\n",
        "report_accuracy(rf)"
      ],
      "execution_count": 0,
      "outputs": [
        {
          "output_type": "stream",
          "text": [
            "/usr/local/lib/python3.6/dist-packages/sklearn/ensemble/forest.py:246: FutureWarning: The default value of n_estimators will change from 10 in version 0.20 to 100 in 0.22.\n",
            "  \"10 in version 0.20 to 100 in 0.22.\", FutureWarning)\n"
          ],
          "name": "stderr"
        },
        {
          "output_type": "stream",
          "text": [
            "Training set accuracy score is: \u001b[1;31m0.9946475262010473\u001b[0m\n",
            "Test set accuracy score is: \u001b[1;31m0.9253411362517021\u001b[0m\n"
          ],
          "name": "stdout"
        }
      ]
    },
    {
      "metadata": {
        "trusted": true,
        "_uuid": "8e6d82e961dd9aa38412468ac397c7344edd60f2",
        "id": "0S_LfCjT8dKO",
        "colab_type": "code",
        "outputId": "c4d8e629-0ce8-4848-e7c3-011696e360f6",
        "colab": {
          "base_uri": "https://localhost:8080/",
          "height": 530
        }
      },
      "cell_type": "code",
      "source": [
        "#confusionmatrix\n",
        "from sklearn.metrics import confusion_matrix\n",
        "import numpy as np\n",
        "\n",
        "def print_confusion_matrix(confusion_matrix, class_names, figsize = (10,7), fontsize=14, normalize=False):\n",
        "  \n",
        "    if normalize:\n",
        "        confusion_matrix = confusion_matrix.astype('float') / confusion_matrix.sum(axis=1)[:, np.newaxis]\n",
        "        fmt = '.2f'\n",
        "        title = 'Normalized Confusion Matrix'\n",
        "    else:\n",
        "        fmt = 'd'\n",
        "        title = 'Confusion Matrix'\n",
        "        \n",
        "    df_cm = pd.DataFrame(confusion_matrix, index=class_names, columns=class_names)\n",
        "    fig = plt.figure(figsize=figsize)\n",
        "    heatmap = sns.heatmap(df_cm, annot=True, fmt=fmt)\n",
        "\n",
        "    heatmap.yaxis.set_ticklabels(heatmap.yaxis.get_ticklabels(), rotation=0, ha='right', fontsize=fontsize)\n",
        "    heatmap.xaxis.set_ticklabels(heatmap.yaxis.get_ticklabels(), rotation=45, ha='right', fontsize=fontsize)\n",
        "    heatmap.set_ylabel('True label')\n",
        "    heatmap.set_xlabel('Predicted label')\n",
        "    heatmap.set_title(title)\n",
        "    return fig\n",
        "\n",
        "conf_mat = confusion_matrix(y_test, rf.predict(x_test))\n",
        "\n",
        "# readable labels\n",
        "labels = [cat_map[encoder_mapping[label]] for label in sorted(encoder_mapping.keys())]\n",
        "ax = print_confusion_matrix(conf_mat, labels, normalize=True)\n",
        "plt.show()"
      ],
      "execution_count": 0,
      "outputs": [
        {
          "output_type": "display_data",
          "data": {
            "image/png": "[encoded data removed]",
            "text/plain": [
              "<Figure size 720x504 with 2 Axes>"
            ]
          },
          "metadata": {
            "tags": []
          }
        }
      ]
    },
    {
      "metadata": {
        "trusted": true,
        "_uuid": "722393cd3732942c77518d3dcd0ea0a29c254374",
        "id": "pa8adg6c8dKk",
        "colab_type": "code",
        "outputId": "33170502-5e58-4878-b980-3c996d7e200b",
        "colab": {
          "base_uri": "https://localhost:8080/",
          "height": 350
        }
      },
      "cell_type": "code",
      "source": [
        "news['WEEK'] = news['TIMESTAMP'].apply(lambda date: date.week)\n",
        "\n",
        "# Aggregate by week\n",
        "aggregated = news[['WEEK', 'MONTH', 'CATEGORY']]\n",
        "grouped = aggregated.groupby(['WEEK', 'CATEGORY']).size().reset_index(name='article_count')\n",
        "grouped['CATEGORY'] = grouped['CATEGORY'].apply(lambda x: cat_map[x])\n",
        "\n",
        "plt.figure(figsize=(7, 5))\n",
        "ax = sns.lineplot(x='WEEK', y='article_count', hue='CATEGORY', data=grouped, ci=None)\n",
        "ax.set_xticks(list(range(11, 36)))\n",
        "ax.set_xlabel(\"Week of the year\")\n",
        "ax.set_ylabel(\"Number of articles\")\n",
        "ax.set_title(\"Articles published per week\")\n",
        "plt.show()"
      ],
      "execution_count": 0,
      "outputs": [
        {
          "output_type": "display_data",
          "data": {
            "image/png": "[encoded data removed]",
            "text/plain": [
              "<Figure size 504x360 with 1 Axes>"
            ]
          },
          "metadata": {
            "tags": []
          }
        }
      ]
    },
    {
      "metadata": {
        "trusted": true,
        "_uuid": "17edbadee337f950812ab631b063bb2d9842cd18",
        "id": "GU0knVwz8dKw",
        "colab_type": "code",
        "outputId": "f5230dbd-33e0-4ff7-8a89-283187a1537a",
        "colab": {
          "base_uri": "https://localhost:8080/",
          "height": 35
        }
      },
      "cell_type": "code",
      "source": [
        "from gensim import corpora\n",
        "import numpy\n",
        "import random\n",
        "\n",
        "# reuse the tokenizer to clean the text.\n",
        "clean_text = news['TITLE'].apply(tokenize)\n",
        "\n",
        "# Reproducible topics.\n",
        "numpy.random.seed(seed)\n",
        "random.seed(seed)\n",
        "\n",
        "# Create Dictionary and a Corpus (basic Gensim structures)\n",
        "id2word = corpora.Dictionary(clean_text)\n",
        "id2word.filter_extremes(no_below=5, no_above=0.05)\n",
        "print(id2word)\n",
        "corpus = [id2word.doc2bow(text) for text in clean_text]"
      ],
      "execution_count": 0,
      "outputs": [
        {
          "output_type": "stream",
          "text": [
            "Dictionary(14251 unique tokens: ['caused', 'data', 'fed', 'official', 'say']...)\n"
          ],
          "name": "stdout"
        }
      ]
    },
    {
      "metadata": {
        "trusted": true,
        "_uuid": "137144ecd494ce8a6e7f4ef4236083567ab94395",
        "id": "c12AGufP8dLF",
        "colab_type": "code",
        "outputId": "9bb405cc-02af-4040-f425-f6079424ec5f",
        "colab": {
          "base_uri": "https://localhost:8080/",
          "height": 88
        }
      },
      "cell_type": "code",
      "source": [
        "import gensim\n",
        "import re\n",
        "\n",
        "num_topics = 4\n",
        "lda_model = gensim.models.ldamodel.LdaModel(corpus=corpus, id2word=id2word, num_topics=num_topics, random_state=seed)\n",
        "\n",
        "# inspect the discovered topics.\n",
        "def print_model(model):\n",
        "    \n",
        "    def print_topic(topic):\n",
        "        topic_no, topic_repr = topic\n",
        "        parts = topic_repr.split(\"+\")\n",
        "        words = [re.search('\"(.*)\"', part).group(1) for part in parts]\n",
        "        return \"{}: {}\".format(topic_no, words)\n",
        "    \n",
        "    for topic in model.print_topics():\n",
        "        print(print_topic(topic))\n",
        "        \n",
        "    \n",
        "print_model(lda_model)"
      ],
      "execution_count": 0,
      "outputs": [
        {
          "output_type": "stream",
          "text": [
            "0: ['apple', 'fcc', 'air', 'may', 'car', 'woman', 'say', 'animal', 'user', 'fda']\n",
            "1: ['u', 'sale', 'deal', 'earnings', 'samsung', 'stock', 'china', 'profit', 'price', 'galaxy']\n",
            "2: ['2014', 'video', 'nokia', 'selena', 'gomez', 'google', 'bieber', 'justin', 'star', 'show']\n",
            "3: ['microsoft', 'one', 'internet', 'xbox', 'time', 'net', 'launch', 'tv', 'review', 'neutrality']\n"
          ],
          "name": "stdout"
        }
      ]
    },
    {
      "metadata": {
        "trusted": true,
        "_uuid": "14375deab941d580e1bb1693921cefbe8b5ea2aa",
        "id": "ejTBuNgA8dLT",
        "colab_type": "code",
        "outputId": "e060f5eb-4c55-4b2c-89a6-8f82937385cd",
        "colab": {
          "base_uri": "https://localhost:8080/",
          "height": 124
        }
      },
      "cell_type": "code",
      "source": [
        "num_topics = 6\n",
        "lda_model = gensim.models.ldamodel.LdaModel(corpus=corpus, id2word=id2word, num_topics=num_topics, random_state=seed)\n",
        "print_model(lda_model)"
      ],
      "execution_count": 0,
      "outputs": [
        {
          "output_type": "stream",
          "text": [
            "0: ['woman', 'twitter', 'may', 'car', 'user', 'z', 'jay', 'animal', 'america', 'mers']\n",
            "1: ['google', 'u', 'sale', 'earnings', 'stock', 'china', 'galaxy', 'price', 'facebook', 'share']\n",
            "2: ['amazon', 'apple', 'samsung', 'net', '2014', 'air', 'netflix', 'q1', 'macbook', '“']\n",
            "3: ['microsoft', 'one', 'internet', 'xbox', 'nokia', 'review', 'first', 'season', 'launch', 'beyonce']\n",
            "4: ['show', 'selena', 'gomez', 'video', 'bieber', 'throne', 'game', 'justin', 'tour', 'hbo']\n",
            "5: ['fcc', 'profit', 'deal', 'neutrality', 'ceo', 'cable', 'comcast', 'company', 'fda', 'land']\n"
          ],
          "name": "stdout"
        }
      ]
    },
    {
      "metadata": {
        "_uuid": "2a9153ea9b11220f3edc43523512ce355373febb",
        "trusted": true,
        "id": "YzehNzqI8dLf",
        "colab_type": "code",
        "outputId": "ea88a59e-bfdc-4ad6-d675-66eabb8dc6f9",
        "colab": {
          "base_uri": "https://localhost:8080/",
          "height": 359
        }
      },
      "cell_type": "code",
      "source": [
        "topic_mapping = {\n",
        "    0: \"Social Media\",\n",
        "    1: \"Business\",\n",
        "    2: \"Company\",\n",
        "    3: \"Technology\",\n",
        "    4: \"Entertainment\",\n",
        "    5: \"Other\"\n",
        "}\n",
        "\n",
        "unseen_headlines = [\n",
        "    \"Twitter keeps your direct messages, even years after you delete them\",\n",
        "    \"Samsung releases new product - stock rises\",\n",
        "    \"View: Towards creating a profit-oriented and productive company\",\n",
        "    \"Music maverick A.R. Rahman attends 61st Grammy Awards\",\n",
        "    \"Google,Apple may have multibillion-dollar US fine over privacy lapses\",\n",
        "    \"Brilliant, Brilliant, Brilliant Brilliant Brilliant by Joel Golby – review\"\n",
        "]\n",
        "\n",
        "def rank_headline(headline):\n",
        "    bow_vector = id2word.doc2bow(tokenize(headline))\n",
        "    lda_vector = lda_model[bow_vector]\n",
        "    top_topic = topic_mapping[max(lda_vector, key=lambda item: item[1])[0]]\n",
        "    distribution = {topic_mapping[topic_no]: proportion for topic_no, proportion in lda_vector}\n",
        "    return top_topic, distribution\n",
        "\n",
        "for headline in unseen_headlines:\n",
        "    top_topic, distribution = rank_headline(headline)\n",
        "    print(\"{}: {} \\n Topic Mix: {}\\n\".format(headline, emphasize(top_topic), distribution))"
      ],
      "execution_count": 0,
      "outputs": [
        {
          "output_type": "stream",
          "text": [
            "Twitter keeps your direct messages, even years after you delete them: \u001b[1;31mBusiness\u001b[0m \n",
            " Topic Mix: {'Social Media': 0.27798557, 'Business': 0.3037616, 'Company': 0.21544191, 'Technology': 0.02093739, 'Entertainment': 0.16092257, 'Other': 0.020951008}\n",
            "\n",
            "Samsung releases new product - stock rises: \u001b[1;31mBusiness\u001b[0m \n",
            " Topic Mix: {'Social Media': 0.027778333, 'Business': 0.3626493, 'Company': 0.3400906, 'Technology': 0.21392478, 'Entertainment': 0.027779246, 'Other': 0.02777779}\n",
            "\n",
            "View: Towards creating a profit-oriented and productive company: \u001b[1;31mCompany\u001b[0m \n",
            " Topic Mix: {'Social Media': 0.19447207, 'Business': 0.027782252, 'Company': 0.36109138, 'Technology': 0.027778478, 'Entertainment': 0.19437334, 'Other': 0.19450253}\n",
            "\n",
            "Music maverick A.R. Rahman attends 61st Grammy Awards: \u001b[1;31mEntertainment\u001b[0m \n",
            " Topic Mix: {'Social Media': 0.23345962, 'Business': 0.033333622, 'Company': 0.033505592, 'Technology': 0.03335983, 'Entertainment': 0.6330076, 'Other': 0.033333756}\n",
            "\n",
            "Google,Apple may have multibillion-dollar US fine over privacy lapses: \u001b[1;31mBusiness\u001b[0m \n",
            " Topic Mix: {'Social Media': 0.01888541, 'Business': 0.56769323, 'Company': 0.23154752, 'Technology': 0.1448142, 'Entertainment': 0.018519243, 'Other': 0.018540384}\n",
            "\n",
            "Brilliant, Brilliant, Brilliant Brilliant Brilliant by Joel Golby – review: \u001b[1;31mCompany\u001b[0m \n",
            " Topic Mix: {'Social Media': 0.01852453, 'Business': 0.018518616, 'Company': 0.6838496, 'Technology': 0.13125987, 'Entertainment': 0.12932873, 'Other': 0.018518636}\n",
            "\n"
          ],
          "name": "stdout"
        }
      ]
    },
    {
      "metadata": {
        "_uuid": "5884b4083819b90886bd538ae963e0a471b91f57",
        "trusted": true,
        "scrolled": true,
        "id": "4_hs3aFU8dME",
        "colab_type": "code",
        "outputId": "6f12e1bf-0e7d-4e29-f16c-bd5146ba3860",
        "colab": {
          "base_uri": "https://localhost:8080/",
          "height": 73
        }
      },
      "cell_type": "code",
      "source": [
        "unseen_headlines = [\n",
        "    \"The President send social media messages via twitter in America.”\",\n",
        "    \"Apple develops new IRIS technology in phone.\"\n",
        "]\n",
        "\n",
        "\n",
        "for headline in unseen_headlines:\n",
        "    top_topic, distribution = rank_headline(headline)\n",
        "    print(\"{}: {} - {}\".format(headline, emphasize(top_topic), distribution))"
      ],
      "execution_count": 0,
      "outputs": [
        {
          "output_type": "stream",
          "text": [
            "The President send social media messages via twitter in America.”: \u001b[1;31mSocial Media\u001b[0m - {'Social Media': 0.41352424, 'Business': 0.19892, 'Company': 0.21933755, 'Technology': 0.016666682, 'Entertainment': 0.1344204, 'Other': 0.017131094}\n",
            "Apple develops new IRIS technology in phone.: \u001b[1;31mCompany\u001b[0m - {'Social Media': 0.03337152, 'Business': 0.033333346, 'Company': 0.6227204, 'Technology': 0.24390158, 'Entertainment': 0.033333346, 'Other': 0.03333976}\n"
          ],
          "name": "stdout"
        }
      ]
    },
    {
      "metadata": {
        "id": "IROJwJ9PKuH6",
        "colab_type": "code",
        "colab": {}
      },
      "cell_type": "code",
      "source": [
        "-"
      ],
      "execution_count": 0,
      "outputs": []
    }
  ]
}